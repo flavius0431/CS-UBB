{
 "cells": [
  {
   "cell_type": "code",
   "execution_count": 1,
   "metadata": {},
   "outputs": [
    {
     "data": {
      "text/plain": [
       "diff(x(t), t) == k*x(t)"
      ]
     },
     "execution_count": 1,
     "metadata": {},
     "output_type": "execute_result"
    }
   ],
   "source": [
    "reset()\n",
    "t,k=var('t,k')\n",
    "x0=var('x0')\n",
    "x=function('x')(t)\n",
    "eqd=diff(x)==k*x\n",
    "eqd\n"
   ]
  },
  {
   "cell_type": "code",
   "execution_count": 4,
   "metadata": {},
   "outputs": [
    {
     "data": {
      "text/plain": [
       "_C*e^(k*t)"
      ]
     },
     "execution_count": 4,
     "metadata": {},
     "output_type": "execute_result"
    }
   ],
   "source": [
    "sol=desolve(eqd,[x,t])\n",
    "sol"
   ]
  },
  {
   "cell_type": "code",
   "execution_count": 5,
   "metadata": {},
   "outputs": [
    {
     "data": {
      "text/html": [
       "<html><script type=\"math/tex; mode=display\">\\newcommand{\\Bold}[1]{\\mathbf{#1}}C e^{\\left(k t\\right)}</script></html>"
      ],
      "text/latex": [
       "$$\\newcommand{\\Bold}[1]{\\mathbf{#1}}C e^{\\left(k t\\right)}$$"
      ],
      "text/plain": [
       "_C*e^(k*t)"
      ]
     },
     "metadata": {},
     "output_type": "display_data"
    }
   ],
   "source": [
    "show(sol)"
   ]
  },
  {
   "cell_type": "code",
   "execution_count": 6,
   "metadata": {},
   "outputs": [
    {
     "data": {
      "text/plain": [
       "[diff(x(t), t) == 2*x(t) - y(t), diff(y(t), t) == 3*x(t) - 2*y(t)]"
      ]
     },
     "execution_count": 6,
     "metadata": {},
     "output_type": "execute_result"
    }
   ],
   "source": [
    "#ex2\n",
    "reset()\n",
    "t=var('t')\n",
    "x=function('x')(t)\n",
    "y=function('y')(t)\n",
    "deq1=diff(x,t)==2*x-y\n",
    "deq2=diff(y,t)==3*x-2*y\n",
    "syst=[deq1,deq2]\n",
    "syst"
   ]
  },
  {
   "cell_type": "code",
   "execution_count": 7,
   "metadata": {},
   "outputs": [
    {
     "data": {
      "text/plain": [
       "[x(t) == -1/2*(x(0) - y(0))*e^(-t) + 1/2*(3*x(0) - y(0))*e^t,\n",
       " y(t) == -3/2*(x(0) - y(0))*e^(-t) + 1/2*(3*x(0) - y(0))*e^t]"
      ]
     },
     "execution_count": 7,
     "metadata": {},
     "output_type": "execute_result"
    }
   ],
   "source": [
    "desolve_system(syst,[x,y])\n"
   ]
  },
  {
   "cell_type": "code",
   "execution_count": 8,
   "metadata": {},
   "outputs": [
    {
     "data": {
      "text/html": [
       "<html><script type=\"math/tex; mode=display\">\\newcommand{\\Bold}[1]{\\mathbf{#1}}\\left[x\\left(t\\right) = -\\frac{1}{2} \\, {\\left(x\\left(0\\right) - y\\left(0\\right)\\right)} e^{\\left(-t\\right)} + \\frac{1}{2} \\, {\\left(3 \\, x\\left(0\\right) - y\\left(0\\right)\\right)} e^{t}, y\\left(t\\right) = -\\frac{3}{2} \\, {\\left(x\\left(0\\right) - y\\left(0\\right)\\right)} e^{\\left(-t\\right)} + \\frac{1}{2} \\, {\\left(3 \\, x\\left(0\\right) - y\\left(0\\right)\\right)} e^{t}\\right]</script></html>"
      ],
      "text/latex": [
       "$$\\newcommand{\\Bold}[1]{\\mathbf{#1}}\\left[x\\left(t\\right) = -\\frac{1}{2} \\, {\\left(x\\left(0\\right) - y\\left(0\\right)\\right)} e^{\\left(-t\\right)} + \\frac{1}{2} \\, {\\left(3 \\, x\\left(0\\right) - y\\left(0\\right)\\right)} e^{t}, y\\left(t\\right) = -\\frac{3}{2} \\, {\\left(x\\left(0\\right) - y\\left(0\\right)\\right)} e^{\\left(-t\\right)} + \\frac{1}{2} \\, {\\left(3 \\, x\\left(0\\right) - y\\left(0\\right)\\right)} e^{t}\\right]$$"
      ],
      "text/plain": [
       "[x(t) == -1/2*(x(0) - y(0))*e^(-t) + 1/2*(3*x(0) - y(0))*e^t,\n",
       " y(t) == -3/2*(x(0) - y(0))*e^(-t) + 1/2*(3*x(0) - y(0))*e^t]"
      ]
     },
     "metadata": {},
     "output_type": "display_data"
    }
   ],
   "source": [
    "sol_syst=desolve_system(syst,[x,y])\n",
    "show(sol_syst)"
   ]
  },
  {
   "cell_type": "code",
   "execution_count": 11,
   "metadata": {},
   "outputs": [
    {
     "data": {
      "text/plain": [
       "(t, C1, C2) |--> -1/2*(C1 - C2)*e^(-t) + 1/2*(3*C1 - C2)*e^t"
      ]
     },
     "execution_count": 11,
     "metadata": {},
     "output_type": "execute_result"
    }
   ],
   "source": [
    "C1,C2=var('C1,C2')\n",
    "sol=desolve_system(syst,[x,y],[0,C1,C2])\n",
    "sol_x(t,C1,C2)=sol[0].rhs()\n",
    "sol_x"
   ]
  },
  {
   "cell_type": "code",
   "execution_count": 12,
   "metadata": {},
   "outputs": [
    {
     "data": {
      "text/html": [
       "<html><script type=\"math/tex; mode=display\">\\newcommand{\\Bold}[1]{\\mathbf{#1}}\\left( t, C_{1}, C_{2} \\right) \\ {\\mapsto} \\ -\\frac{1}{2} \\, {\\left(C_{1} - C_{2}\\right)} e^{\\left(-t\\right)} + \\frac{1}{2} \\, {\\left(3 \\, C_{1} - C_{2}\\right)} e^{t}</script></html>"
      ],
      "text/latex": [
       "$$\\newcommand{\\Bold}[1]{\\mathbf{#1}}\\left( t, C_{1}, C_{2} \\right) \\ {\\mapsto} \\ -\\frac{1}{2} \\, {\\left(C_{1} - C_{2}\\right)} e^{\\left(-t\\right)} + \\frac{1}{2} \\, {\\left(3 \\, C_{1} - C_{2}\\right)} e^{t}$$"
      ],
      "text/plain": [
       "(t, C1, C2) |--> -1/2*(C1 - C2)*e^(-t) + 1/2*(3*C1 - C2)*e^t"
      ]
     },
     "metadata": {},
     "output_type": "display_data"
    }
   ],
   "source": [
    "show(sol_x)"
   ]
  },
  {
   "cell_type": "code",
   "execution_count": 13,
   "metadata": {},
   "outputs": [
    {
     "data": {
      "text/html": [
       "<html><script type=\"math/tex; mode=display\">\\newcommand{\\Bold}[1]{\\mathbf{#1}}\\left( t, C_{1}, C_{2} \\right) \\ {\\mapsto} \\ -\\frac{3}{2} \\, {\\left(C_{1} - C_{2}\\right)} e^{\\left(-t\\right)} + \\frac{1}{2} \\, {\\left(3 \\, C_{1} - C_{2}\\right)} e^{t}</script></html>"
      ],
      "text/latex": [
       "$$\\newcommand{\\Bold}[1]{\\mathbf{#1}}\\left( t, C_{1}, C_{2} \\right) \\ {\\mapsto} \\ -\\frac{3}{2} \\, {\\left(C_{1} - C_{2}\\right)} e^{\\left(-t\\right)} + \\frac{1}{2} \\, {\\left(3 \\, C_{1} - C_{2}\\right)} e^{t}$$"
      ],
      "text/plain": [
       "(t, C1, C2) |--> -3/2*(C1 - C2)*e^(-t) + 1/2*(3*C1 - C2)*e^t"
      ]
     },
     "metadata": {},
     "output_type": "display_data"
    }
   ],
   "source": [
    "sol_y(t,C1,C2)=sol[1].rhs()\n",
    "sol_y\n",
    "show(sol_y)"
   ]
  },
  {
   "cell_type": "code",
   "execution_count": 14,
   "metadata": {},
   "outputs": [
    {
     "data": {
      "text/plain": [
       "[x(t) == e^(-t) + e^t, y(t) == 3*e^(-t) + e^t]"
      ]
     },
     "execution_count": 14,
     "metadata": {},
     "output_type": "execute_result"
    }
   ],
   "source": [
    "#ex2\n",
    "reset()\n",
    "t=var('t')\n",
    "x=function('x')(t)\n",
    "y=function('y')(t)\n",
    "deq1=diff(x,t)==2*x-y\n",
    "deq2=diff(y,t)==3*x-2*y\n",
    "syst=[deq1,deq2]\n",
    "vars=[x,y]\n",
    "in_cond=[0,2,4]\n",
    "sol=desolve_system(syst,vars,in_cond)\n",
    "sol"
   ]
  },
  {
   "cell_type": "code",
   "execution_count": 15,
   "metadata": {},
   "outputs": [
    {
     "data": {
      "text/html": [
       "<html><script type=\"math/tex; mode=display\">\\newcommand{\\Bold}[1]{\\mathbf{#1}}\\left[x\\left(t\\right) = e^{\\left(-t\\right)} + e^{t}, y\\left(t\\right) = 3 \\, e^{\\left(-t\\right)} + e^{t}\\right]</script></html>"
      ],
      "text/latex": [
       "$$\\newcommand{\\Bold}[1]{\\mathbf{#1}}\\left[x\\left(t\\right) = e^{\\left(-t\\right)} + e^{t}, y\\left(t\\right) = 3 \\, e^{\\left(-t\\right)} + e^{t}\\right]$$"
      ],
      "text/plain": [
       "[x(t) == e^(-t) + e^t, y(t) == 3*e^(-t) + e^t]"
      ]
     },
     "metadata": {},
     "output_type": "display_data"
    }
   ],
   "source": [
    "show(sol)"
   ]
  },
  {
   "cell_type": "code",
   "execution_count": 16,
   "metadata": {},
   "outputs": [
    {
     "data": {
      "text/html": [
       "<html><script type=\"math/tex; mode=display\">\\newcommand{\\Bold}[1]{\\mathbf{#1}}t \\ {\\mapsto}\\ e^{\\left(-t\\right)} + e^{t}</script></html>"
      ],
      "text/latex": [
       "$$\\newcommand{\\Bold}[1]{\\mathbf{#1}}t \\ {\\mapsto}\\ e^{\\left(-t\\right)} + e^{t}$$"
      ],
      "text/plain": [
       "t |--> e^(-t) + e^t"
      ]
     },
     "metadata": {},
     "output_type": "display_data"
    },
    {
     "data": {
      "text/plain": [
       "t |--> 3*e^(-t) + e^t"
      ]
     },
     "execution_count": 16,
     "metadata": {},
     "output_type": "execute_result"
    }
   ],
   "source": [
    "sol_x(t)=sol[0].rhs()\n",
    "sol_x\n",
    "show(sol_x)\n",
    "sol_y(t)=sol[1].rhs()\n",
    "sol_y\n"
   ]
  },
  {
   "cell_type": "code",
   "execution_count": 17,
   "metadata": {},
   "outputs": [
    {
     "data": {
      "image/png": "[encoded data removed]",
      "text/plain": [
       "Graphics object consisting of 1 graphics primitive"
      ]
     },
     "execution_count": 17,
     "metadata": {},
     "output_type": "execute_result"
    }
   ],
   "source": [
    "plot(sol_x(t),t,-3,3,color='red')"
   ]
  },
  {
   "cell_type": "code",
   "execution_count": 19,
   "metadata": {},
   "outputs": [
    {
     "data": {
      "image/png": "[encoded data removed]",
      "text/plain": [
       "Graphics object consisting of 1 graphics primitive"
      ]
     },
     "execution_count": 19,
     "metadata": {},
     "output_type": "execute_result"
    }
   ],
   "source": [
    "plot(sol_y(t),t,-3,3,color='blue')"
   ]
  },
  {
   "cell_type": "code",
   "execution_count": 21,
   "metadata": {},
   "outputs": [
    {
     "data": {
      "text/plain": [
       "[s == -3, s == 3, s == 0]"
      ]
     },
     "execution_count": 21,
     "metadata": {},
     "output_type": "execute_result"
    }
   ],
   "source": [
    "#ex3\n",
    "reset()\n",
    "t=var('t')\n",
    "x=function('x')(t)\n",
    "s=var('s')\n",
    "f=function('f')(s)\n",
    "f(s)=s*(9-s^2)\n",
    "eqp=solve(f(s)==0,s)\n",
    "eqp"
   ]
  },
  {
   "cell_type": "code",
   "execution_count": null,
   "metadata": {},
   "outputs": [],
   "source": [
    "\n",
    "\n"
   ]
  },
  {
   "cell_type": "code",
   "execution_count": 27,
   "metadata": {},
   "outputs": [
    {
     "data": {
      "text/plain": [
       "[[x == 0, y == 0], [x == -2, y == -2], [x == 2, y == 2]]"
      ]
     },
     "execution_count": 27,
     "metadata": {},
     "output_type": "execute_result"
    }
   ],
   "source": [
    "#ex 4\n",
    "reset()\n",
    "x,y=var('x,y')\n",
    "f1=function('f1')(x,y)\n",
    "f2=function('f2')(x,y)\n",
    "f1(x,y)=4*x-x*y^2\n",
    "f2(x,y)=x-y\n",
    "eqs=solve([f1(x,y)==0,f2(x,y)==0],x,y)\n",
    "eqs"
   ]
  },
  {
   "cell_type": "code",
   "execution_count": 26,
   "metadata": {},
   "outputs": [
    {
     "data": {
      "text/html": [
       "<html><script type=\"math/tex; mode=display\">\\newcommand{\\Bold}[1]{\\mathbf{#1}}\\left[x\\left(t\\right) = \\mathcal{L}^{-1}\\left(-\\frac{\\mathcal{L}\\left(x\\left(t\\right) y\\left(t\\right)^{2}, t, g_{2392}\\right) - x\\left(0\\right)}{g_{2392} - 4}, g_{2392}, t\\right), y\\left(t\\right) = \\mathcal{L}^{-1}\\left(\\frac{g_{2392} \\mathcal{L}\\left(x\\left(t\\right) y\\left(t\\right)^{2}, t, g_{2392}\\right) - \\mathcal{L}\\left(x\\left(t\\right) y\\left(t\\right)^{2}, t, g_{2392}\\right) - 3 \\, x\\left(0\\right)}{g_{2392} - 4}, g_{2392}, t\\right)\\right]</script></html>"
      ],
      "text/latex": [
       "$$\\newcommand{\\Bold}[1]{\\mathbf{#1}}\\left[x\\left(t\\right) = \\mathcal{L}^{-1}\\left(-\\frac{\\mathcal{L}\\left(x\\left(t\\right) y\\left(t\\right)^{2}, t, g_{2392}\\right) - x\\left(0\\right)}{g_{2392} - 4}, g_{2392}, t\\right), y\\left(t\\right) = \\mathcal{L}^{-1}\\left(\\frac{g_{2392} \\mathcal{L}\\left(x\\left(t\\right) y\\left(t\\right)^{2}, t, g_{2392}\\right) - \\mathcal{L}\\left(x\\left(t\\right) y\\left(t\\right)^{2}, t, g_{2392}\\right) - 3 \\, x\\left(0\\right)}{g_{2392} - 4}, g_{2392}, t\\right)\\right]$$"
      ],
      "text/plain": [
       "[x(t) == ilt(-(laplace(x(t)*y(t)^2, t, g2392) - x(0))/(g2392 - 4), g2392, t),\n",
       " y(t) == ilt((g2392*laplace(x(t)*y(t)^2, t, g2392) - laplace(x(t)*y(t)^2, t, g2392) - 3*x(0))/(g2392 - 4), g2392, t)]"
      ]
     },
     "metadata": {},
     "output_type": "display_data"
    }
   ],
   "source": []
  },
  {
   "cell_type": "code",
   "execution_count": 29,
   "metadata": {},
   "outputs": [
    {
     "data": {
      "text/plain": [
       "[-y^2 + 4   -2*x*y]\n",
       "[       1       -1]"
      ]
     },
     "execution_count": 29,
     "metadata": {},
     "output_type": "execute_result"
    }
   ],
   "source": [
    "jacobian((f1(x,y),f2(x,y)),(x,y))\n"
   ]
  },
  {
   "cell_type": "code",
   "execution_count": 30,
   "metadata": {},
   "outputs": [
    {
     "data": {
      "text/plain": [
       "[ 4  0]\n",
       "[ 1 -1]"
      ]
     },
     "execution_count": 30,
     "metadata": {},
     "output_type": "execute_result"
    }
   ],
   "source": [
    "j=jacobian((f1(x,y),f2(x,y)),(x,y))\n",
    "j(x=0,y=0)"
   ]
  },
  {
   "cell_type": "code",
   "execution_count": 31,
   "metadata": {},
   "outputs": [
    {
     "data": {
      "text/plain": [
       "[-1, 4]"
      ]
     },
     "execution_count": 31,
     "metadata": {},
     "output_type": "execute_result"
    }
   ],
   "source": [
    "j(x=0,y=0).eigenvalues()"
   ]
  },
  {
   "cell_type": "code",
   "execution_count": 38,
   "metadata": {},
   "outputs": [
    {
     "data": {
      "text/plain": [
       "[-1/2*I*sqrt(31) - 1/2, 1/2*I*sqrt(31) - 1/2]"
      ]
     },
     "execution_count": 38,
     "metadata": {},
     "output_type": "execute_result"
    }
   ],
   "source": [
    "j=jacobian((f1(x,y),f2(x,y)),(x,y))\n",
    "j(x=-2,y=-2)\n",
    "j(x=-2,y=-2).eigenvalues()\n"
   ]
  },
  {
   "cell_type": "code",
   "execution_count": 36,
   "metadata": {},
   "outputs": [
    {
     "data": {
      "text/html": [
       "<html><script type=\"math/tex; mode=display\">\\newcommand{\\Bold}[1]{\\mathbf{#1}}\\left[-\\frac{1}{2} i \\, \\sqrt{31} - \\frac{1}{2}, \\frac{1}{2} i \\, \\sqrt{31} - \\frac{1}{2}\\right]</script></html>"
      ],
      "text/latex": [
       "$$\\newcommand{\\Bold}[1]{\\mathbf{#1}}\\left[-\\frac{1}{2} i \\, \\sqrt{31} - \\frac{1}{2}, \\frac{1}{2} i \\, \\sqrt{31} - \\frac{1}{2}\\right]$$"
      ],
      "text/plain": [
       "[-1/2*I*sqrt(31) - 1/2, 1/2*I*sqrt(31) - 1/2]"
      ]
     },
     "metadata": {},
     "output_type": "display_data"
    }
   ],
   "source": [
    "j=jacobian((f1(x,y),f2(x,y)),(x,y))\n",
    "j(x=2,y=2)\n",
    "sol=j(x=2,y=2).eigenvalues()\n",
    "show(sol)"
   ]
  },
  {
   "cell_type": "code",
   "execution_count": 47,
   "metadata": {},
   "outputs": [],
   "source": [
    "#ex3\n",
    "reset()\n",
    "t=var('t')\n",
    "x=function('x')(t)\n",
    "s=var('s')\n",
    "f=function('f')(s)\n",
    "f(s)=s*(9-s^2)\n",
    "eqp=solve(f(s)==0,s)\n",
    "eqp\n"
   ]
  },
  {
   "cell_type": "code",
   "execution_count": 54,
   "metadata": {},
   "outputs": [],
   "source": [
    "x1=eqp[0].rhs()\n",
    "x2=eqp[1].rhs()\n",
    "x3=eqp[2].rhs()\n",
    "diff(f,s)(x1)\n",
    "deq=diff(f,s)==f(s)"
   ]
  },
  {
   "cell_type": "code",
   "execution_count": 55,
   "metadata": {},
   "outputs": [
    {
     "data": {
      "text/plain": [
       "-18"
      ]
     },
     "execution_count": 55,
     "metadata": {},
     "output_type": "execute_result"
    }
   ],
   "source": [
    "diff(f,s)(x2)"
   ]
  },
  {
   "cell_type": "code",
   "execution_count": 56,
   "metadata": {},
   "outputs": [
    {
     "data": {
      "text/plain": [
       "9"
      ]
     },
     "execution_count": 56,
     "metadata": {},
     "output_type": "execute_result"
    }
   ],
   "source": [
    "diff(f,s)(x3)"
   ]
  },
  {
   "cell_type": "code",
   "execution_count": 71,
   "metadata": {},
   "outputs": [
    {
     "data": {
      "image/png": "[encoded data removed]",
      "text/plain": [
       "Graphics object consisting of 1 graphics primitive"
      ]
     },
     "execution_count": 71,
     "metadata": {},
     "output_type": "execute_result"
    }
   ],
   "source": [
    "sf=plot_slope_field(f(s),(t,0,2),(s,0,-3),headaxislength=3,headlength=4,color='red')\n",
    "sf"
   ]
  },
  {
   "cell_type": "code",
   "execution_count": 72,
   "metadata": {},
   "outputs": [
    {
     "data": {
      "text/plain": [
       "diff(x(t), t) == -(x(t)^2 - 9)*x(t)"
      ]
     },
     "execution_count": 72,
     "metadata": {},
     "output_type": "execute_result"
    }
   ],
   "source": [
    "deq=diff(x,t)==f(x)\n",
    "deq"
   ]
  },
  {
   "cell_type": "code",
   "execution_count": 73,
   "metadata": {},
   "outputs": [
    {
     "data": {
      "text/plain": [
       "[[-1.0, -2.34431351980909e+36],\n",
       " [-0.5, -5.813977082402931],\n",
       " [0, 0.500000000000000],\n",
       " [0.5, 2.208810719673282],\n",
       " [1.0, -10059432.8884081]]"
      ]
     },
     "execution_count": 73,
     "metadata": {},
     "output_type": "execute_result"
    }
   ],
   "source": [
    "desolve_rk4(deq,x,[0,0.5],step=0.5,end_points=[-5,5],output='list')"
   ]
  },
  {
   "cell_type": "code",
   "execution_count": 74,
   "metadata": {},
   "outputs": [
    {
     "data": {
      "image/png": "[encoded data removed]",
      "text/plain": [
       "Graphics object consisting of 1 graphics primitive"
      ]
     },
     "execution_count": 74,
     "metadata": {},
     "output_type": "execute_result"
    }
   ],
   "source": [
    "desolve_rk4(deq,x,[0,0.5],step=0.1,end_points=[-5,5],output='plot')"
   ]
  },
  {
   "cell_type": "code",
   "execution_count": null,
   "metadata": {},
   "outputs": [],
   "source": []
  }
 ],
 "metadata": {
  "kernelspec": {
   "display_name": "SageMath 9.3",
   "language": "sage",
   "name": "sagemath"
  },
  "language_info": {
   "codemirror_mode": {
    "name": "ipython",
    "version": 3
   },
   "file_extension": ".py",
   "mimetype": "text/x-python",
   "name": "python",
   "nbconvert_exporter": "python",
   "pygments_lexer": "ipython3",
   "version": "3.7.10"
  }
 },
 "nbformat": 4,
 "nbformat_minor": 4
}
